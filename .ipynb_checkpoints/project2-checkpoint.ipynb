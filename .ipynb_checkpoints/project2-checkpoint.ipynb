{
 "cells": [
  {
   "cell_type": "code",
   "execution_count": 1,
   "metadata": {},
   "outputs": [],
   "source": [
    "import numpy as np\n",
    "import math\n",
    "import copy"
   ]
  },
  {
   "cell_type": "code",
   "execution_count": 8,
   "metadata": {
    "scrolled": true
   },
   "outputs": [],
   "source": [
    "def read_data(file_name):\n",
    "    file = open(file_name, 'r')\n",
    "    lines = file.readlines()\n",
    "    k = len(lines[0].split())\n",
    "    n = len(lines)\n",
    "    data = np.zeros((n,k))\n",
    "    for i in range(n):\n",
    "        line_words = lines[i].split()\n",
    "        for j in range(k):\n",
    "            data[i,j] = eval(line_words[j])\n",
    "    labels = data[:,0]\n",
    "    features = data[:,1:]\n",
    "    features = (features - np.mean(features,axis = 0))/np.var(features, axis=0) #normalize features\n",
    "    return labels, features"
   ]
  },
  {
   "cell_type": "code",
   "execution_count": 18,
   "metadata": {},
   "outputs": [],
   "source": [
    "def leave_one_accuracy(labels, features, mask):\n",
    "    n = len(labels)\n",
    "    correct_count = 0\n",
    "    for i in range(n):\n",
    "        distance_array = np.sum(np.power((features - features[i])*mask,2), axis = 1)\n",
    "        distance_array[i] = 100000  #max value\n",
    "        nearest_neighbor = int(np.argmin(distance_array))\n",
    "        correct_count += (labels[i] == labels[nearest_neighbor])\n",
    "    return correct_count / n"
   ]
  },
  {
   "cell_type": "code",
   "execution_count": 19,
   "metadata": {},
   "outputs": [],
   "source": [
    "def forward_selection(file_name):\n",
    "    labels, features = read_data(file_name)\n",
    "    m = np.shape(features)[1]\n",
    "    print(\"The data has {} features in total.\".format(m))\n",
    "    indeces = [i for i in range(m)]\n",
    "    selection = []\n",
    "    best_features = []\n",
    "    best_accuracy = 0\n",
    "    for i in range(m):\n",
    "        print(\"in {}th round\".format(i+1))\n",
    "        max_accuracy = 0\n",
    "        max_index = -1\n",
    "        for f in indeces:\n",
    "            current_select = copy.copy(selection)\n",
    "            current_select.append(f)\n",
    "            mask = np.zeros(m)\n",
    "            mask[current_select] = 1\n",
    "            accuracy = leave_one_accuracy(labels, features, mask)\n",
    "            print(\"select feature {}, with accuracy {}\".format(f+1, accuracy))\n",
    "            if (accuracy > max_accuracy):\n",
    "                max_accuracy = accuracy\n",
    "                max_index = f\n",
    "        selection.append(max_index)\n",
    "        indeces.remove(max_index)\n",
    "        print(\"feature set {} was best, with accuracy {}\".format([i+1 for i in selection], max_accuracy))\n",
    "        if max_accuracy > best_accuracy :\n",
    "            best_accuracy = max_accuracy\n",
    "            best_features = copy.copy(selection)\n",
    "    print(\"Finished search! The best feature set is {}. with accuracy {}.\".format([i+1 for i in best_features], best_accuracy))"
   ]
  },
  {
   "cell_type": "code",
   "execution_count": 20,
   "metadata": {},
   "outputs": [],
   "source": [
    "def backward_elimination(file_name):\n",
    "    labels, features = read_data(file_name)\n",
    "    m = np.shape(features)[1]\n",
    "    print(\"The data has {} featuers in total.\".format(m))\n",
    "    selection = [i for i in range(m)]\n",
    "    best_features = []\n",
    "    best_accuracy = 0\n",
    "    for i in range(m-1):\n",
    "        print(\"in {}th round\".format(i+1))\n",
    "        max_accuracy = 0\n",
    "        max_index = -1\n",
    "        for f in selection:\n",
    "            current_indeces = copy.copy(selection)\n",
    "            current_indeces.remove(f)\n",
    "            mask = np.zeros(m)\n",
    "            mask[current_indeces] = 1\n",
    "            accuracy = leave_one_accuracy(labels, features, mask)\n",
    "            print(\"remove feature {}, with accuracy {}\".format(f+1,accuracy))\n",
    "            if (accuracy > max_accuracy):\n",
    "                max_accuracy = accuracy\n",
    "                max_index = f\n",
    "        selection.remove(max_index)\n",
    "        print(\"feature set {} was best, with accuracy {}\".format([i+1 for i in selection], max_accuracy))\n",
    "        if max_accuracy > best_accuracy :\n",
    "            best_accuracy = max_accuracy\n",
    "            best_features = copy.copy(selection)\n",
    "    print(\"Finished search! The best feature set is {}. with accuracy {}.\".format([i+1 for i in best_features], best_accuracy))"
   ]
  },
  {
   "cell_type": "code",
   "execution_count": 21,
   "metadata": {
    "scrolled": true
   },
   "outputs": [
    {
     "name": "stdout",
     "output_type": "stream",
     "text": [
      "The data has 10 features in total.\n",
      "in 1th round\n",
      "select feature 1, with accuracy 0.6966666666666667\n",
      "select feature 2, with accuracy 0.8133333333333334\n",
      "select feature 3, with accuracy 0.6733333333333333\n",
      "select feature 4, with accuracy 0.6866666666666666\n",
      "select feature 5, with accuracy 0.6666666666666666\n",
      "select feature 6, with accuracy 0.6866666666666666\n",
      "select feature 7, with accuracy 0.6933333333333334\n",
      "select feature 8, with accuracy 0.67\n",
      "select feature 9, with accuracy 0.6466666666666666\n",
      "select feature 10, with accuracy 0.66\n",
      "feature set [2] was best, with accuracy 0.8133333333333334\n",
      "in 2th round\n",
      "select feature 1, with accuracy 0.8433333333333334\n",
      "select feature 3, with accuracy 0.81\n",
      "select feature 4, with accuracy 0.8533333333333334\n",
      "select feature 5, with accuracy 0.79\n",
      "select feature 6, with accuracy 0.87\n",
      "select feature 7, with accuracy 0.8466666666666667\n",
      "select feature 8, with accuracy 0.8533333333333334\n",
      "select feature 9, with accuracy 0.9633333333333334\n",
      "select feature 10, with accuracy 0.8566666666666667\n",
      "feature set [2, 9] was best, with accuracy 0.9633333333333334\n",
      "in 3th round\n",
      "select feature 1, with accuracy 0.8933333333333333\n",
      "select feature 3, with accuracy 0.93\n",
      "select feature 4, with accuracy 0.92\n",
      "select feature 5, with accuracy 0.8966666666666666\n",
      "select feature 6, with accuracy 0.87\n",
      "select feature 7, with accuracy 0.9133333333333333\n",
      "select feature 8, with accuracy 0.92\n",
      "select feature 10, with accuracy 0.9266666666666666\n",
      "feature set [2, 9, 3] was best, with accuracy 0.93\n",
      "in 4th round\n",
      "select feature 1, with accuracy 0.8466666666666667\n",
      "select feature 4, with accuracy 0.8233333333333334\n",
      "select feature 5, with accuracy 0.84\n",
      "select feature 6, with accuracy 0.8733333333333333\n",
      "select feature 7, with accuracy 0.9066666666666666\n",
      "select feature 8, with accuracy 0.88\n",
      "select feature 10, with accuracy 0.87\n",
      "feature set [2, 9, 3, 7] was best, with accuracy 0.9066666666666666\n",
      "in 5th round\n",
      "select feature 1, with accuracy 0.8\n",
      "select feature 4, with accuracy 0.83\n",
      "select feature 5, with accuracy 0.8333333333333334\n",
      "select feature 6, with accuracy 0.8466666666666667\n",
      "select feature 8, with accuracy 0.8566666666666667\n",
      "select feature 10, with accuracy 0.86\n",
      "feature set [2, 9, 3, 7, 10] was best, with accuracy 0.86\n",
      "in 6th round\n",
      "select feature 1, with accuracy 0.7833333333333333\n",
      "select feature 4, with accuracy 0.8\n",
      "select feature 5, with accuracy 0.79\n",
      "select feature 6, with accuracy 0.83\n",
      "select feature 8, with accuracy 0.8166666666666667\n",
      "feature set [2, 9, 3, 7, 10, 6] was best, with accuracy 0.83\n",
      "in 7th round\n",
      "select feature 1, with accuracy 0.7766666666666666\n",
      "select feature 4, with accuracy 0.7766666666666666\n",
      "select feature 5, with accuracy 0.8\n",
      "select feature 8, with accuracy 0.8066666666666666\n",
      "feature set [2, 9, 3, 7, 10, 6, 8] was best, with accuracy 0.8066666666666666\n",
      "in 8th round\n",
      "select feature 1, with accuracy 0.79\n",
      "select feature 4, with accuracy 0.76\n",
      "select feature 5, with accuracy 0.76\n",
      "feature set [2, 9, 3, 7, 10, 6, 8, 1] was best, with accuracy 0.79\n",
      "in 9th round\n",
      "select feature 4, with accuracy 0.7366666666666667\n",
      "select feature 5, with accuracy 0.7466666666666667\n",
      "feature set [2, 9, 3, 7, 10, 6, 8, 1, 5] was best, with accuracy 0.7466666666666667\n",
      "in 10th round\n",
      "select feature 4, with accuracy 0.7266666666666667\n",
      "feature set [2, 9, 3, 7, 10, 6, 8, 1, 5, 4] was best, with accuracy 0.7266666666666667\n",
      "Finished search! The best feature set is [2, 9]. with accuracy 0.9633333333333334.\n"
     ]
    }
   ],
   "source": [
    "forward_selection(\"data/small/CS205_small_testdata__10.txt\")"
   ]
  },
  {
   "cell_type": "code",
   "execution_count": 177,
   "metadata": {
    "scrolled": true
   },
   "outputs": [
    {
     "name": "stdout",
     "output_type": "stream",
     "text": [
      "The data has 10 featuers in total.\n",
      "in 1th round\n",
      "remove feature 1, with accuracy 0.71\n",
      "remove feature 2, with accuracy 0.66\n",
      "remove feature 3, with accuracy 0.7166666666666667\n",
      "remove feature 4, with accuracy 0.76\n",
      "remove feature 5, with accuracy 0.7266666666666667\n",
      "remove feature 6, with accuracy 0.72\n",
      "remove feature 7, with accuracy 0.7166666666666667\n",
      "remove feature 8, with accuracy 0.7266666666666667\n",
      "remove feature 9, with accuracy 0.7033333333333334\n",
      "remove feature 10, with accuracy 0.7633333333333333\n",
      "feature set [1, 2, 3, 4, 5, 6, 7, 8, 9] was best, with accuracy 0.7633333333333333\n",
      "in 2th round\n",
      "remove feature 1, with accuracy 0.7433333333333333\n",
      "remove feature 2, with accuracy 0.7233333333333334\n",
      "remove feature 3, with accuracy 0.7433333333333333\n",
      "remove feature 4, with accuracy 0.7633333333333333\n",
      "remove feature 5, with accuracy 0.7833333333333333\n",
      "remove feature 6, with accuracy 0.7433333333333333\n",
      "remove feature 7, with accuracy 0.75\n",
      "remove feature 8, with accuracy 0.78\n",
      "remove feature 9, with accuracy 0.7366666666666667\n",
      "feature set [1, 2, 3, 4, 6, 7, 8, 9] was best, with accuracy 0.7833333333333333\n",
      "in 3th round\n",
      "remove feature 1, with accuracy 0.8\n",
      "remove feature 2, with accuracy 0.7266666666666667\n",
      "remove feature 3, with accuracy 0.7933333333333333\n",
      "remove feature 4, with accuracy 0.7633333333333333\n",
      "remove feature 6, with accuracy 0.7733333333333333\n",
      "remove feature 7, with accuracy 0.7833333333333333\n",
      "remove feature 8, with accuracy 0.78\n",
      "remove feature 9, with accuracy 0.78\n",
      "feature set [2, 3, 4, 6, 7, 8, 9] was best, with accuracy 0.8\n",
      "in 4th round\n",
      "remove feature 2, with accuracy 0.7033333333333334\n",
      "remove feature 3, with accuracy 0.83\n",
      "remove feature 4, with accuracy 0.8433333333333334\n",
      "remove feature 6, with accuracy 0.8033333333333333\n",
      "remove feature 7, with accuracy 0.8133333333333334\n",
      "remove feature 8, with accuracy 0.8\n",
      "remove feature 9, with accuracy 0.7666666666666667\n",
      "feature set [2, 3, 6, 7, 8, 9] was best, with accuracy 0.8433333333333334\n",
      "in 5th round\n",
      "remove feature 2, with accuracy 0.7333333333333333\n",
      "remove feature 3, with accuracy 0.8566666666666667\n",
      "remove feature 6, with accuracy 0.8233333333333334\n",
      "remove feature 7, with accuracy 0.8666666666666667\n",
      "remove feature 8, with accuracy 0.83\n",
      "remove feature 9, with accuracy 0.7833333333333333\n",
      "feature set [2, 3, 6, 8, 9] was best, with accuracy 0.8666666666666667\n",
      "in 6th round\n",
      "remove feature 2, with accuracy 0.7266666666666667\n",
      "remove feature 3, with accuracy 0.8833333333333333\n",
      "remove feature 6, with accuracy 0.8633333333333333\n",
      "remove feature 8, with accuracy 0.87\n",
      "remove feature 9, with accuracy 0.8166666666666667\n",
      "feature set [2, 6, 8, 9] was best, with accuracy 0.8833333333333333\n",
      "in 7th round\n",
      "remove feature 2, with accuracy 0.7233333333333334\n",
      "remove feature 6, with accuracy 0.91\n",
      "remove feature 8, with accuracy 0.86\n",
      "remove feature 9, with accuracy 0.84\n",
      "feature set [2, 8, 9] was best, with accuracy 0.91\n",
      "in 8th round\n",
      "remove feature 2, with accuracy 0.7333333333333333\n",
      "remove feature 8, with accuracy 0.9466666666666667\n",
      "remove feature 9, with accuracy 0.8566666666666667\n",
      "feature set [2, 9] was best, with accuracy 0.9466666666666667\n",
      "in 9th round\n",
      "remove feature 2, with accuracy 0.67\n",
      "remove feature 9, with accuracy 0.8266666666666667\n",
      "feature set [2] was best, with accuracy 0.8266666666666667\n",
      "Finished search! The best feature set is [2, 9]. with accuracy 0.9466666666666667.\n"
     ]
    }
   ],
   "source": [
    "backward_elimination(\"data/small/CS205_small_testdata__10.txt\")"
   ]
  },
  {
   "cell_type": "code",
   "execution_count": 178,
   "metadata": {
    "scrolled": true
   },
   "outputs": [
    {
     "name": "stdout",
     "output_type": "stream",
     "text": [
      "The data has 10 features in total.\n",
      "in 1th round\n",
      "select feature 1, with accuracy 0.6933333333333334\n",
      "select feature 2, with accuracy 0.7533333333333333\n",
      "select feature 3, with accuracy 0.6966666666666667\n",
      "select feature 4, with accuracy 0.7566666666666667\n",
      "select feature 5, with accuracy 0.68\n",
      "select feature 6, with accuracy 0.7066666666666667\n",
      "select feature 7, with accuracy 0.7266666666666667\n",
      "select feature 8, with accuracy 0.77\n",
      "select feature 9, with accuracy 0.7666666666666667\n",
      "select feature 10, with accuracy 0.8566666666666667\n",
      "feature set [10] was best, with accuracy 0.8566666666666667\n",
      "in 2th round\n",
      "select feature 1, with accuracy 0.8433333333333334\n",
      "select feature 2, with accuracy 0.8133333333333334\n",
      "select feature 3, with accuracy 0.8433333333333334\n",
      "select feature 4, with accuracy 0.9766666666666667\n",
      "select feature 5, with accuracy 0.8633333333333333\n",
      "select feature 6, with accuracy 0.8433333333333334\n",
      "select feature 7, with accuracy 0.8166666666666667\n",
      "select feature 8, with accuracy 0.8533333333333334\n",
      "select feature 9, with accuracy 0.7866666666666666\n",
      "feature set [10, 4] was best, with accuracy 0.9766666666666667\n",
      "in 3th round\n",
      "select feature 1, with accuracy 0.92\n",
      "select feature 2, with accuracy 0.8966666666666666\n",
      "select feature 3, with accuracy 0.9166666666666666\n",
      "select feature 5, with accuracy 0.9466666666666667\n",
      "select feature 6, with accuracy 0.93\n",
      "select feature 7, with accuracy 0.9266666666666666\n",
      "select feature 8, with accuracy 0.8966666666666666\n",
      "select feature 9, with accuracy 0.9166666666666666\n",
      "feature set [10, 4, 5] was best, with accuracy 0.9466666666666667\n",
      "in 4th round\n",
      "select feature 1, with accuracy 0.88\n",
      "select feature 2, with accuracy 0.8666666666666667\n",
      "select feature 3, with accuracy 0.87\n",
      "select feature 6, with accuracy 0.8933333333333333\n",
      "select feature 7, with accuracy 0.87\n",
      "select feature 8, with accuracy 0.8666666666666667\n",
      "select feature 9, with accuracy 0.8933333333333333\n",
      "feature set [10, 4, 5, 6] was best, with accuracy 0.8933333333333333\n",
      "in 5th round\n",
      "select feature 1, with accuracy 0.87\n",
      "select feature 2, with accuracy 0.8233333333333334\n",
      "select feature 3, with accuracy 0.8\n",
      "select feature 7, with accuracy 0.8033333333333333\n",
      "select feature 8, with accuracy 0.82\n",
      "select feature 9, with accuracy 0.8533333333333334\n",
      "feature set [10, 4, 5, 6, 1] was best, with accuracy 0.87\n",
      "in 6th round\n",
      "select feature 2, with accuracy 0.81\n",
      "select feature 3, with accuracy 0.7966666666666666\n",
      "select feature 7, with accuracy 0.7966666666666666\n",
      "select feature 8, with accuracy 0.84\n",
      "select feature 9, with accuracy 0.8066666666666666\n",
      "feature set [10, 4, 5, 6, 1, 8] was best, with accuracy 0.84\n",
      "in 7th round\n",
      "select feature 2, with accuracy 0.7866666666666666\n",
      "select feature 3, with accuracy 0.7566666666666667\n",
      "select feature 7, with accuracy 0.7766666666666666\n",
      "select feature 9, with accuracy 0.79\n",
      "feature set [10, 4, 5, 6, 1, 8, 9] was best, with accuracy 0.79\n",
      "in 8th round\n",
      "select feature 2, with accuracy 0.77\n",
      "select feature 3, with accuracy 0.76\n",
      "select feature 7, with accuracy 0.7333333333333333\n",
      "feature set [10, 4, 5, 6, 1, 8, 9, 2] was best, with accuracy 0.77\n",
      "in 9th round\n",
      "select feature 3, with accuracy 0.7966666666666666\n",
      "select feature 7, with accuracy 0.7833333333333333\n",
      "feature set [10, 4, 5, 6, 1, 8, 9, 2, 3] was best, with accuracy 0.7966666666666666\n",
      "in 10th round\n",
      "select feature 7, with accuracy 0.7633333333333333\n",
      "feature set [10, 4, 5, 6, 1, 8, 9, 2, 3, 7] was best, with accuracy 0.7633333333333333\n",
      "Finished search! The best feature set is [10, 4]. with accuracy 0.9766666666666667.\n"
     ]
    }
   ],
   "source": [
    "forward_selection(\"data/small/CS205_small_testdata__19.txt\")"
   ]
  },
  {
   "cell_type": "code",
   "execution_count": 2,
   "metadata": {},
   "outputs": [],
   "source": [
    "a = np.array([1,2,3])\n",
    "b = np.array([3,2,1])\n",
    "m = np.array([[3,2,1],[2,2,2]])"
   ]
  },
  {
   "cell_type": "code",
   "execution_count": 20,
   "metadata": {},
   "outputs": [
    {
     "data": {
      "text/plain": [
       "array([[ 0,  0, -2],\n",
       "       [ 0,  0, -1]])"
      ]
     },
     "execution_count": 20,
     "metadata": {},
     "output_type": "execute_result"
    }
   ],
   "source": [
    "x = (m - a)"
   ]
  },
  {
   "cell_type": "code",
   "execution_count": 16,
   "metadata": {},
   "outputs": [],
   "source": [
    "y = np.array([2,3])"
   ]
  },
  {
   "cell_type": "code",
   "execution_count": 17,
   "metadata": {},
   "outputs": [
    {
     "data": {
      "text/plain": [
       "2"
      ]
     },
     "execution_count": 17,
     "metadata": {},
     "output_type": "execute_result"
    }
   ],
   "source": [
    "np.amin(y)"
   ]
  },
  {
   "cell_type": "code",
   "execution_count": 7,
   "metadata": {},
   "outputs": [
    {
     "data": {
      "text/plain": [
       "2.8284271247461903"
      ]
     },
     "execution_count": 7,
     "metadata": {},
     "output_type": "execute_result"
    }
   ],
   "source": [
    "math.sqrt(sum(np.power(a-b,2)))"
   ]
  },
  {
   "cell_type": "code",
   "execution_count": 28,
   "metadata": {},
   "outputs": [],
   "source": [
    "a = 0"
   ]
  },
  {
   "cell_type": "code",
   "execution_count": 29,
   "metadata": {},
   "outputs": [],
   "source": [
    "a += (1==1)"
   ]
  },
  {
   "cell_type": "code",
   "execution_count": 4,
   "metadata": {},
   "outputs": [
    {
     "data": {
      "text/plain": [
       "array([0., 0., 0., 0., 0.])"
      ]
     },
     "execution_count": 4,
     "metadata": {},
     "output_type": "execute_result"
    }
   ],
   "source": [
    "a = np.zeros(5)\n",
    "a"
   ]
  },
  {
   "cell_type": "code",
   "execution_count": 5,
   "metadata": {},
   "outputs": [],
   "source": [
    "a[[0,2]] = 1"
   ]
  },
  {
   "cell_type": "code",
   "execution_count": 6,
   "metadata": {},
   "outputs": [
    {
     "data": {
      "text/plain": [
       "array([1., 0., 1., 0., 0.])"
      ]
     },
     "execution_count": 6,
     "metadata": {},
     "output_type": "execute_result"
    }
   ],
   "source": []
  },
  {
   "cell_type": "code",
   "execution_count": null,
   "metadata": {},
   "outputs": [],
   "source": []
  }
 ],
 "metadata": {
  "kernelspec": {
   "display_name": "Python 3",
   "language": "python",
   "name": "python3"
  },
  "language_info": {
   "codemirror_mode": {
    "name": "ipython",
    "version": 3
   },
   "file_extension": ".py",
   "mimetype": "text/x-python",
   "name": "python",
   "nbconvert_exporter": "python",
   "pygments_lexer": "ipython3",
   "version": "3.8.3"
  }
 },
 "nbformat": 4,
 "nbformat_minor": 4
}
